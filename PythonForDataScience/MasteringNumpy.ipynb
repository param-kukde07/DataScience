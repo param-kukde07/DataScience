{
 "cells": [
  {
   "cell_type": "code",
   "execution_count": 1,
   "id": "ee55c767",
   "metadata": {},
   "outputs": [],
   "source": [
    "import numpy as np"
   ]
  },
  {
   "cell_type": "code",
   "execution_count": 2,
   "id": "8245f2bc",
   "metadata": {},
   "outputs": [],
   "source": [
    "a = np.array([1,2,3,4,5],dtype='i')"
   ]
  },
  {
   "cell_type": "code",
   "execution_count": 3,
   "id": "50674703",
   "metadata": {},
   "outputs": [],
   "source": [
    "b = np.array((2,3,5),dtype='f')"
   ]
  },
  {
   "cell_type": "code",
   "execution_count": 4,
   "id": "d09684cf",
   "metadata": {},
   "outputs": [
    {
     "name": "stdout",
     "output_type": "stream",
     "text": [
      "[1 2 3 4 5]\n"
     ]
    }
   ],
   "source": [
    "print(a)"
   ]
  },
  {
   "cell_type": "code",
   "execution_count": 5,
   "id": "18347d67",
   "metadata": {},
   "outputs": [
    {
     "data": {
      "text/plain": [
       "numpy.ndarray"
      ]
     },
     "execution_count": 5,
     "metadata": {},
     "output_type": "execute_result"
    }
   ],
   "source": [
    "type(a)"
   ]
  },
  {
   "cell_type": "code",
   "execution_count": 6,
   "id": "23106d4f",
   "metadata": {},
   "outputs": [
    {
     "data": {
      "text/plain": [
       "numpy.ndarray"
      ]
     },
     "execution_count": 6,
     "metadata": {},
     "output_type": "execute_result"
    }
   ],
   "source": [
    "type(b)"
   ]
  },
  {
   "cell_type": "code",
   "execution_count": 7,
   "id": "cc3fb2d7",
   "metadata": {},
   "outputs": [
    {
     "data": {
      "text/plain": [
       "dtype('int32')"
      ]
     },
     "execution_count": 7,
     "metadata": {},
     "output_type": "execute_result"
    }
   ],
   "source": [
    "a.dtype"
   ]
  },
  {
   "cell_type": "code",
   "execution_count": 8,
   "id": "9011da6a",
   "metadata": {},
   "outputs": [
    {
     "data": {
      "text/plain": [
       "dtype('float32')"
      ]
     },
     "execution_count": 8,
     "metadata": {},
     "output_type": "execute_result"
    }
   ],
   "source": [
    "b.dtype"
   ]
  },
  {
   "cell_type": "code",
   "execution_count": 9,
   "id": "8b23a59b",
   "metadata": {},
   "outputs": [],
   "source": [
    "a = np.array([[1,2,3],[4,5,6]])"
   ]
  },
  {
   "cell_type": "code",
   "execution_count": 10,
   "id": "eb46db7e",
   "metadata": {},
   "outputs": [
    {
     "data": {
      "text/plain": [
       "2"
      ]
     },
     "execution_count": 10,
     "metadata": {},
     "output_type": "execute_result"
    }
   ],
   "source": [
    "a.ndim"
   ]
  },
  {
   "cell_type": "code",
   "execution_count": 11,
   "id": "d0607f0a",
   "metadata": {},
   "outputs": [],
   "source": [
    "B = np.array([[1,2,3],[2,4,5]])"
   ]
  },
  {
   "cell_type": "code",
   "execution_count": 12,
   "id": "2658d731",
   "metadata": {},
   "outputs": [
    {
     "data": {
      "text/plain": [
       "2"
      ]
     },
     "execution_count": 12,
     "metadata": {},
     "output_type": "execute_result"
    }
   ],
   "source": [
    "B.ndim"
   ]
  },
  {
   "cell_type": "code",
   "execution_count": 13,
   "id": "758066ab",
   "metadata": {},
   "outputs": [
    {
     "data": {
      "text/plain": [
       "5"
      ]
     },
     "execution_count": 13,
     "metadata": {},
     "output_type": "execute_result"
    }
   ],
   "source": [
    "B[1,2]"
   ]
  },
  {
   "cell_type": "code",
   "execution_count": 14,
   "id": "1f792034",
   "metadata": {},
   "outputs": [],
   "source": [
    "C = np.array([[[1,2,3],[4,5,6],[0,0,-1]],[[-1,-2,-3],[-4,-5,-6],[0,0,1]]])"
   ]
  },
  {
   "cell_type": "code",
   "execution_count": 15,
   "id": "c8aa4414",
   "metadata": {},
   "outputs": [
    {
     "data": {
      "text/plain": [
       "(2, 3, 3)"
      ]
     },
     "execution_count": 15,
     "metadata": {},
     "output_type": "execute_result"
    }
   ],
   "source": [
    "C.shape"
   ]
  },
  {
   "cell_type": "code",
   "execution_count": 16,
   "id": "a4ebf27f",
   "metadata": {},
   "outputs": [
    {
     "data": {
      "text/plain": [
       "-3"
      ]
     },
     "execution_count": 16,
     "metadata": {},
     "output_type": "execute_result"
    }
   ],
   "source": [
    "C[1,0,2]"
   ]
  },
  {
   "cell_type": "code",
   "execution_count": 17,
   "id": "49295c48",
   "metadata": {},
   "outputs": [
    {
     "data": {
      "text/plain": [
       "numpy.ndarray"
      ]
     },
     "execution_count": 17,
     "metadata": {},
     "output_type": "execute_result"
    }
   ],
   "source": [
    "type(C)"
   ]
  },
  {
   "cell_type": "code",
   "execution_count": 18,
   "id": "a478b37f",
   "metadata": {},
   "outputs": [],
   "source": [
    "A = np.array([2])"
   ]
  },
  {
   "cell_type": "code",
   "execution_count": 19,
   "id": "50b34739",
   "metadata": {},
   "outputs": [
    {
     "data": {
      "text/plain": [
       "1"
      ]
     },
     "execution_count": 19,
     "metadata": {},
     "output_type": "execute_result"
    }
   ],
   "source": [
    "A.ndim"
   ]
  },
  {
   "cell_type": "code",
   "execution_count": 20,
   "id": "d7c339df",
   "metadata": {},
   "outputs": [],
   "source": [
    "B = np.array(3)"
   ]
  },
  {
   "cell_type": "code",
   "execution_count": 21,
   "id": "94156f09",
   "metadata": {},
   "outputs": [
    {
     "data": {
      "text/plain": [
       "0"
      ]
     },
     "execution_count": 21,
     "metadata": {},
     "output_type": "execute_result"
    }
   ],
   "source": [
    "B.ndim"
   ]
  },
  {
   "cell_type": "code",
   "execution_count": 22,
   "id": "d972f5cc",
   "metadata": {},
   "outputs": [
    {
     "data": {
      "text/plain": [
       "18"
      ]
     },
     "execution_count": 22,
     "metadata": {},
     "output_type": "execute_result"
    }
   ],
   "source": [
    "C.size"
   ]
  },
  {
   "cell_type": "code",
   "execution_count": 23,
   "id": "4885ba1b",
   "metadata": {},
   "outputs": [
    {
     "data": {
      "text/plain": [
       "72"
      ]
     },
     "execution_count": 23,
     "metadata": {},
     "output_type": "execute_result"
    }
   ],
   "source": [
    "C.nbytes"
   ]
  },
  {
   "cell_type": "code",
   "execution_count": 24,
   "id": "79c612eb",
   "metadata": {},
   "outputs": [],
   "source": [
    " A = np.arange(20,100,3)"
   ]
  },
  {
   "cell_type": "code",
   "execution_count": 25,
   "id": "56c312fc",
   "metadata": {},
   "outputs": [
    {
     "name": "stdout",
     "output_type": "stream",
     "text": [
      "[20 23 26 29 32 35 38 41 44 47 50 53 56 59 62 65 68 71 74 77 80 83 86 89\n",
      " 92 95 98]\n"
     ]
    }
   ],
   "source": [
    "print(A)"
   ]
  },
  {
   "cell_type": "code",
   "execution_count": 26,
   "id": "5b020a10",
   "metadata": {},
   "outputs": [
    {
     "name": "stdout",
     "output_type": "stream",
     "text": [
      "range(0, 10)\n"
     ]
    }
   ],
   "source": [
    "print(range(10))"
   ]
  },
  {
   "cell_type": "code",
   "execution_count": 27,
   "id": "88cf0e47",
   "metadata": {},
   "outputs": [
    {
     "name": "stdout",
     "output_type": "stream",
     "text": [
      "[0, 1, 2, 3, 4, 5, 6, 7, 8, 9]\n"
     ]
    }
   ],
   "source": [
    "print(list(range(10)))"
   ]
  },
  {
   "cell_type": "code",
   "execution_count": 28,
   "id": "82dc8ca7",
   "metadata": {},
   "outputs": [],
   "source": [
    "A = np.random.permutation(np.arange(10))"
   ]
  },
  {
   "cell_type": "code",
   "execution_count": 29,
   "id": "885eaa3d",
   "metadata": {},
   "outputs": [
    {
     "name": "stdout",
     "output_type": "stream",
     "text": [
      "[7 9 2 4 5 8 0 6 3 1]\n"
     ]
    }
   ],
   "source": [
    "print(A)"
   ]
  },
  {
   "cell_type": "code",
   "execution_count": 30,
   "id": "8ced611f",
   "metadata": {},
   "outputs": [],
   "source": [
    "np.random.randint?"
   ]
  },
  {
   "cell_type": "code",
   "execution_count": 31,
   "id": "7c8666e2",
   "metadata": {},
   "outputs": [],
   "source": [
    "v = np.random.randint(20,200)"
   ]
  },
  {
   "cell_type": "code",
   "execution_count": 32,
   "id": "1100c795",
   "metadata": {},
   "outputs": [
    {
     "data": {
      "text/plain": [
       "int"
      ]
     },
     "execution_count": 32,
     "metadata": {},
     "output_type": "execute_result"
    }
   ],
   "source": [
    "type(v)"
   ]
  },
  {
   "cell_type": "code",
   "execution_count": 33,
   "id": "edc6469e",
   "metadata": {},
   "outputs": [],
   "source": [
    "A = np.random.rand(1000)"
   ]
  },
  {
   "cell_type": "code",
   "execution_count": 34,
   "id": "81a8a9ed",
   "metadata": {},
   "outputs": [
    {
     "name": "stdout",
     "output_type": "stream",
     "text": [
      "[0.44636341 0.71905706 0.23596533 0.71360666 0.04317058 0.61239083\n",
      " 0.46104719 0.35759361 0.21285018 0.27923261 0.73155889 0.29532676\n",
      " 0.89635909 0.38352913 0.15767781 0.4498369  0.21655525 0.19120833\n",
      " 0.89692155 0.94844705 0.23611624 0.673753   0.62323749 0.94110689\n",
      " 0.39721758 0.66358234 0.20486376 0.83912431 0.41510425 0.47933036\n",
      " 0.43806184 0.2288318  0.81822941 0.40875023 0.73539102 0.43664207\n",
      " 0.19638618 0.38285191 0.56188469 0.95493537 0.22089111 0.14994913\n",
      " 0.53493107 0.16649095 0.57400865 0.16085687 0.82840719 0.76528634\n",
      " 0.44081222 0.08029225 0.93925422 0.85500057 0.96392885 0.83767694\n",
      " 0.22391281 0.11952699 0.49019693 0.7911485  0.81045631 0.02428675\n",
      " 0.27026976 0.81699208 0.61016217 0.24828736 0.31589246 0.33939995\n",
      " 0.71783634 0.82049363 0.57651147 0.55210723 0.77482042 0.11317368\n",
      " 0.50608238 0.46720343 0.75808756 0.95224153 0.01049479 0.17936874\n",
      " 0.85937854 0.15321495 0.48176943 0.18502761 0.05503949 0.08712858\n",
      " 0.44033293 0.19269953 0.41983076 0.46815483 0.42795885 0.83358999\n",
      " 0.2217852  0.40842782 0.08283653 0.73063178 0.1075317  0.96214761\n",
      " 0.189527   0.50091266 0.76336981 0.76739375 0.9924787  0.2700756\n",
      " 0.30913563 0.33687125 0.1863167  0.8882128  0.52636829 0.53926212\n",
      " 0.00247141 0.7082255  0.40358381 0.09263533 0.39369835 0.37091773\n",
      " 0.53841837 0.08182192 0.39331319 0.11221393 0.18061787 0.75618087\n",
      " 0.9471154  0.7383746  0.11677513 0.95027922 0.95641111 0.27485823\n",
      " 0.97295027 0.08906352 0.2314067  0.34369322 0.63794007 0.84002955\n",
      " 0.57106377 0.20860562 0.92015948 0.07660662 0.58080513 0.16032002\n",
      " 0.24721998 0.30307274 0.26428342 0.23950751 0.78166987 0.07108526\n",
      " 0.69807241 0.62576081 0.54010294 0.89988    0.52093701 0.248461\n",
      " 0.87939564 0.10022948 0.89547079 0.22261158 0.8353753  0.96340879\n",
      " 0.73439824 0.64140573 0.15987444 0.59347376 0.84778655 0.96199774\n",
      " 0.55619993 0.72572797 0.25971268 0.68263583 0.38324375 0.5551065\n",
      " 0.3523122  0.23539874 0.43523036 0.34580335 0.84059291 0.09738331\n",
      " 0.35858839 0.67530445 0.52681059 0.06860863 0.93371907 0.53225593\n",
      " 0.53233667 0.38263093 0.08299981 0.819761   0.52729438 0.8079855\n",
      " 0.10199635 0.41570614 0.36259603 0.6139528  0.84154694 0.18029897\n",
      " 0.42339159 0.88007635 0.28713445 0.3691982  0.39011116 0.43702395\n",
      " 0.15851529 0.35288512 0.24795377 0.79474087 0.17042548 0.58750071\n",
      " 0.4937025  0.5320644  0.29167604 0.85924966 0.98511495 0.61103605\n",
      " 0.8362746  0.09997167 0.78418564 0.95882407 0.44240259 0.99994172\n",
      " 0.39304526 0.34967976 0.12207754 0.71272531 0.2261115  0.02516691\n",
      " 0.71341562 0.06383914 0.86312831 0.77429602 0.90615891 0.21783499\n",
      " 0.80231571 0.52953287 0.12527334 0.91399647 0.91679329 0.35241274\n",
      " 0.54519307 0.77041202 0.77158879 0.4742952  0.84800255 0.6503725\n",
      " 0.13363586 0.9769181  0.95886947 0.50469314 0.90906833 0.9288896\n",
      " 0.81850932 0.34137371 0.89097593 0.94411943 0.96572553 0.78687329\n",
      " 0.80786396 0.81280088 0.65838185 0.51315583 0.50723032 0.06606657\n",
      " 0.5730788  0.83375103 0.8938959  0.23999627 0.32076434 0.63716071\n",
      " 0.04218341 0.79365756 0.34257943 0.68859876 0.50753435 0.31176926\n",
      " 0.47153047 0.24010556 0.97194625 0.23924986 0.42334379 0.57578752\n",
      " 0.63879178 0.7784338  0.15350493 0.03413742 0.09604891 0.05033634\n",
      " 0.64288957 0.08409163 0.39371788 0.01880161 0.74005145 0.76763844\n",
      " 0.14094519 0.50049206 0.64406851 0.62971688 0.62486507 0.25705635\n",
      " 0.71303105 0.81317081 0.11425828 0.08058026 0.85647549 0.27067052\n",
      " 0.04949808 0.56245524 0.93424105 0.1441275  0.46151276 0.0126248\n",
      " 0.9072624  0.23228522 0.02424929 0.30686603 0.4758367  0.96257336\n",
      " 0.31267124 0.95615593 0.13185927 0.08508361 0.33800332 0.16461923\n",
      " 0.92521059 0.17373007 0.35157116 0.76199584 0.13195721 0.70676514\n",
      " 0.09675105 0.14858042 0.87777559 0.05092967 0.06346072 0.88151904\n",
      " 0.3489079  0.94589514 0.58498034 0.78375957 0.19161173 0.18671427\n",
      " 0.31585049 0.31690905 0.21225359 0.21266994 0.89842772 0.19957924\n",
      " 0.7524481  0.59242456 0.06879113 0.28740284 0.22364074 0.70124815\n",
      " 0.67787045 0.76873439 0.71452016 0.43974581 0.55826641 0.21239689\n",
      " 0.67224731 0.23782051 0.76419232 0.21564325 0.47267253 0.21405295\n",
      " 0.15606961 0.33529756 0.58120072 0.14007999 0.3308191  0.80785429\n",
      " 0.34221672 0.88100917 0.56263168 0.953636   0.66865951 0.96602534\n",
      " 0.97149295 0.86306077 0.41387993 0.31336962 0.74744594 0.77104493\n",
      " 0.30932943 0.18881532 0.52780188 0.13436689 0.2238576  0.82175099\n",
      " 0.19685695 0.39631964 0.15563644 0.91969266 0.55927858 0.44510445\n",
      " 0.95145688 0.76051811 0.79877135 0.3721236  0.7760046  0.67345614\n",
      " 0.18097854 0.09309038 0.70157062 0.67304718 0.63918647 0.74952327\n",
      " 0.20594914 0.59562077 0.09465257 0.89397779 0.21354401 0.63063308\n",
      " 0.71023769 0.6444699  0.93903048 0.88194198 0.56401886 0.80484411\n",
      " 0.98912498 0.57539465 0.05693352 0.95042964 0.14959872 0.15467636\n",
      " 0.70367672 0.51525023 0.47264017 0.02709275 0.56610886 0.1399997\n",
      " 0.50050441 0.18541842 0.56001259 0.91629953 0.12523863 0.42708357\n",
      " 0.93206868 0.00787148 0.0075847  0.44162762 0.74337225 0.19785011\n",
      " 0.79835078 0.22484014 0.89650563 0.11201221 0.24860646 0.90994902\n",
      " 0.2815499  0.08353795 0.84518515 0.88181038 0.03425692 0.69707457\n",
      " 0.30886395 0.81416435 0.70753173 0.89794108 0.91117589 0.38347835\n",
      " 0.85958091 0.05900001 0.62991403 0.18964825 0.34196151 0.87170822\n",
      " 0.43761442 0.62777432 0.05692964 0.97482717 0.77042534 0.42073498\n",
      " 0.7491441  0.59787019 0.99416871 0.72536362 0.39161592 0.75348722\n",
      " 0.17960889 0.45551976 0.02005095 0.05833693 0.43628241 0.92703233\n",
      " 0.21677932 0.3311671  0.23886962 0.88711136 0.46004056 0.619702\n",
      " 0.43583667 0.76494939 0.71100635 0.91009621 0.66813954 0.94884806\n",
      " 0.20581591 0.58044718 0.73285947 0.1608982  0.23730062 0.40587836\n",
      " 0.04007304 0.39221193 0.72686878 0.13897154 0.02978125 0.70791752\n",
      " 0.56256284 0.37606102 0.99629036 0.95331239 0.06638304 0.35317433\n",
      " 0.30067805 0.01670245 0.0512755  0.61457036 0.22911178 0.72376264\n",
      " 0.06096143 0.39087148 0.51251383 0.94426864 0.88405706 0.75404612\n",
      " 0.50303084 0.52084642 0.95081686 0.68797088 0.84327925 0.10051309\n",
      " 0.87914441 0.12789932 0.21919221 0.57717759 0.47292389 0.75973878\n",
      " 0.01893914 0.87286607 0.99375792 0.10837299 0.29984142 0.41037961\n",
      " 0.97625103 0.83129388 0.91504681 0.30514774 0.45903097 0.53437193\n",
      " 0.35840504 0.1269117  0.09173746 0.93147528 0.42088723 0.21558125\n",
      " 0.50825067 0.79330171 0.28155082 0.92430479 0.50420257 0.16924116\n",
      " 0.99569398 0.90287044 0.24407179 0.07059331 0.38192276 0.32685041\n",
      " 0.93009933 0.55124172 0.92821678 0.72107503 0.44293261 0.48493057\n",
      " 0.40433655 0.07070846 0.88340582 0.2522163  0.23532453 0.10909913\n",
      " 0.89912439 0.1850221  0.46232886 0.87709822 0.34013097 0.89173012\n",
      " 0.39332024 0.79456919 0.60670284 0.08148044 0.57758456 0.49358322\n",
      " 0.00473257 0.57803199 0.42406463 0.92887614 0.22875965 0.90105751\n",
      " 0.67819039 0.32611745 0.57672912 0.75647431 0.97027888 0.35223487\n",
      " 0.83002791 0.91589736 0.67660961 0.70786965 0.11206514 0.99732667\n",
      " 0.76540138 0.17546424 0.58667008 0.87306766 0.00733659 0.13355895\n",
      " 0.03693474 0.57692199 0.2238578  0.30213507 0.371362   0.75401086\n",
      " 0.67707539 0.00497714 0.62714662 0.98698519 0.3246181  0.03238546\n",
      " 0.63542404 0.31356177 0.79334528 0.91346579 0.30957531 0.33370627\n",
      " 0.88726113 0.17257595 0.16668296 0.8746553  0.04172758 0.1063876\n",
      " 0.55941035 0.6754363  0.96171754 0.30909233 0.66146108 0.97870954\n",
      " 0.56878717 0.8106541  0.37207255 0.78904237 0.50257014 0.60206205\n",
      " 0.87527485 0.59830816 0.90484256 0.42743525 0.71539298 0.90875852\n",
      " 0.40263619 0.84239514 0.65476121 0.14969394 0.09582513 0.32660177\n",
      " 0.69561451 0.40458292 0.95601007 0.34665407 0.73607625 0.44412399\n",
      " 0.26684248 0.86520581 0.19451046 0.222698   0.51238396 0.82565839\n",
      " 0.66931708 0.67835121 0.78190322 0.2749156  0.05189892 0.03730761\n",
      " 0.73920857 0.11532978 0.31872838 0.76844509 0.06005506 0.35701004\n",
      " 0.947791   0.21305986 0.45980828 0.13383161 0.62405307 0.30339028\n",
      " 0.14248772 0.47974217 0.83474722 0.95590426 0.09749067 0.93894217\n",
      " 0.66341694 0.2837019  0.96662716 0.36129461 0.86634631 0.24882678\n",
      " 0.98971957 0.8967842  0.02885185 0.47395916 0.05410416 0.26768793\n",
      " 0.50525029 0.04537687 0.35721413 0.85599028 0.36635516 0.53341525\n",
      " 0.27256301 0.55557129 0.33425193 0.92001677 0.0068017  0.21590248\n",
      " 0.99676636 0.93958527 0.49882506 0.895966   0.72995216 0.74915307\n",
      " 0.58846939 0.18134181 0.0802739  0.63908151 0.17009584 0.01778212\n",
      " 0.95503555 0.02987316 0.6384005  0.72743239 0.61086063 0.07812603\n",
      " 0.45479372 0.58698787 0.21301457 0.30652919 0.77528522 0.53765949\n",
      " 0.37282406 0.10842263 0.20530972 0.21388506 0.25053198 0.58389627\n",
      " 0.03234085 0.70292948 0.69958595 0.51360225 0.49251434 0.20427932\n",
      " 0.9104458  0.5833004  0.29627729 0.6166277  0.25735354 0.15146696\n",
      " 0.61559625 0.21238859 0.60355711 0.57660661 0.6307634  0.47400327\n",
      " 0.29401667 0.56669657 0.01638877 0.11224388 0.0599923  0.80951461\n",
      " 0.64819858 0.47987975 0.69967475 0.05370874 0.27344344 0.32824634\n",
      " 0.34389819 0.95497065 0.67576646 0.63997351 0.73258669 0.91178559\n",
      " 0.60073252 0.37805268 0.04384904 0.86339598 0.2114622  0.57934543\n",
      " 0.86004516 0.12316022 0.87247686 0.04928312 0.08293125 0.53465089\n",
      " 0.7841476  0.18114592 0.45696518 0.92193763 0.80430153 0.64948063\n",
      " 0.94427423 0.63757045 0.66502632 0.51110569 0.64326064 0.10405649\n",
      " 0.38925122 0.23092715 0.1951439  0.7959773  0.37467397 0.01514787\n",
      " 0.15582601 0.91117313 0.02912708 0.62009494 0.49128574 0.37640841\n",
      " 0.43411016 0.77717507 0.22891814 0.6260407  0.70846815 0.93447054\n",
      " 0.0197156  0.49404829 0.16470191 0.30877095 0.71534243 0.933656\n",
      " 0.79998342 0.99386743 0.88830268 0.65930819 0.60232557 0.42480678\n",
      " 0.78432265 0.87113736 0.95241673 0.34578381 0.10882916 0.66949532\n",
      " 0.81747049 0.92753693 0.55491759 0.29518782 0.83749495 0.60387093\n",
      " 0.65942742 0.71804613 0.23504536 0.30652584 0.9202818  0.09230176\n",
      " 0.95257552 0.09121012 0.13282041 0.95054173 0.17784646 0.36928181\n",
      " 0.10244763 0.8156131  0.25780501 0.96622294 0.4611036  0.10122794\n",
      " 0.30725025 0.34998838 0.69526297 0.57024539 0.97582053 0.3062154\n",
      " 0.3483008  0.49481321 0.69425234 0.93799325 0.93327738 0.93018514\n",
      " 0.47058484 0.26521694 0.01469072 0.6454376  0.19922398 0.06330119\n",
      " 0.52767654 0.47763805 0.48929658 0.60414899 0.25172923 0.99916649\n",
      " 0.5426941  0.79213769 0.9665087  0.36967789 0.8797871  0.82701491\n",
      " 0.92602487 0.12561334 0.27163495 0.88669788 0.56020227 0.46938188\n",
      " 0.92549739 0.1979604  0.47127364 0.30964838 0.48839117 0.48199689\n",
      " 0.27695541 0.66096416 0.79891828 0.99854529 0.50861362 0.13388989\n",
      " 0.10337879 0.29894385 0.1316401  0.10740363 0.93932285 0.23566392\n",
      " 0.88759792 0.84232204 0.07602615 0.89957379 0.26913602 0.98209157\n",
      " 0.48910669 0.73421442 0.182985   0.25827205 0.63461493 0.88559066\n",
      " 0.51297137 0.06782959 0.69870262 0.55140449 0.54044318 0.61683159\n",
      " 0.26064669 0.08281215 0.73800953 0.90754507 0.53143552 0.75329468\n",
      " 0.34397208 0.07460592 0.73652138 0.30265037 0.77444044 0.14503146\n",
      " 0.43745648 0.92865248 0.52718443 0.67424487 0.36136463 0.57267076\n",
      " 0.12109186 0.35068279 0.70102201 0.19986247 0.74140355 0.44404362\n",
      " 0.54824254 0.00884371 0.57539828 0.76716495 0.44307373 0.83875482\n",
      " 0.14842522 0.0257963  0.99031971 0.16301304 0.66102671 0.0462934\n",
      " 0.26831029 0.50867538 0.89324069 0.18270356 0.18970377 0.49526291\n",
      " 0.7823706  0.308891   0.15135848 0.99604769 0.10134414 0.91635216\n",
      " 0.72693026 0.13209487 0.20769998 0.59185757 0.95056531 0.84508091\n",
      " 0.80540346 0.19603022 0.38296741 0.76443067]\n"
     ]
    }
   ],
   "source": [
    "print(A)"
   ]
  },
  {
   "cell_type": "code",
   "execution_count": 35,
   "id": "44f007f6",
   "metadata": {},
   "outputs": [],
   "source": [
    "import matplotlib.pyplot as plt"
   ]
  },
  {
   "cell_type": "code",
   "execution_count": 36,
   "id": "ca96b5a7",
   "metadata": {},
   "outputs": [
    {
     "data": {
      "text/plain": [
       "(array([ 9., 10., 11.,  7., 10., 10., 11.,  9., 11., 15., 12.,  9., 10.,\n",
       "        10., 10., 12.,  8., 11., 13., 11.,  8., 19., 14., 14.,  9.,  7.,\n",
       "        10.,  8.,  4.,  7., 18.,  9.,  7.,  8., 15., 12.,  7.,  7., 10.,\n",
       "         9.,  8.,  6.,  7., 12.,  9.,  8.,  7., 12.,  7., 11., 12.,  8.,\n",
       "         7., 13.,  3., 12.,  9., 17.,  8.,  7.,  8.,  9., 11., 10.,  9.,\n",
       "         4., 10., 13.,  3.,  8., 12., 11.,  8., 13.,  6., 10., 14.,  9.,\n",
       "         9., 12.,  8., 11.,  6., 11.,  9.,  7.,  5., 13., 13., 16., 10.,\n",
       "        13., 14., 14.,  9., 20., 11.,  9.,  5., 13.]),\n",
       " array([0.00247141, 0.01244611, 0.02242081, 0.03239552, 0.04237022,\n",
       "        0.05234492, 0.06231963, 0.07229433, 0.08226903, 0.09224374,\n",
       "        0.10221844, 0.11219314, 0.12216785, 0.13214255, 0.14211725,\n",
       "        0.15209195, 0.16206666, 0.17204136, 0.18201606, 0.19199077,\n",
       "        0.20196547, 0.21194017, 0.22191488, 0.23188958, 0.24186428,\n",
       "        0.25183899, 0.26181369, 0.27178839, 0.2817631 , 0.2917378 ,\n",
       "        0.3017125 , 0.3116872 , 0.32166191, 0.33163661, 0.34161131,\n",
       "        0.35158602, 0.36156072, 0.37153542, 0.38151013, 0.39148483,\n",
       "        0.40145953, 0.41143424, 0.42140894, 0.43138364, 0.44135834,\n",
       "        0.45133305, 0.46130775, 0.47128245, 0.48125716, 0.49123186,\n",
       "        0.50120656, 0.51118127, 0.52115597, 0.53113067, 0.54110538,\n",
       "        0.55108008, 0.56105478, 0.57102948, 0.58100419, 0.59097889,\n",
       "        0.60095359, 0.6109283 , 0.620903  , 0.6308777 , 0.64085241,\n",
       "        0.65082711, 0.66080181, 0.67077652, 0.68075122, 0.69072592,\n",
       "        0.70070062, 0.71067533, 0.72065003, 0.73062473, 0.74059944,\n",
       "        0.75057414, 0.76054884, 0.77052355, 0.78049825, 0.79047295,\n",
       "        0.80044766, 0.81042236, 0.82039706, 0.83037177, 0.84034647,\n",
       "        0.85032117, 0.86029587, 0.87027058, 0.88024528, 0.89021998,\n",
       "        0.90019469, 0.91016939, 0.92014409, 0.9301188 , 0.9400935 ,\n",
       "        0.9500682 , 0.96004291, 0.97001761, 0.97999231, 0.98996701,\n",
       "        0.99994172]),\n",
       " <BarContainer object of 100 artists>)"
      ]
     },
     "execution_count": 36,
     "metadata": {},
     "output_type": "execute_result"
    },
    {
     "data": {
      "image/png": "[encoded data removed]",
      "text/plain": [
       "<Figure size 640x480 with 1 Axes>"
      ]
     },
     "metadata": {},
     "output_type": "display_data"
    }
   ],
   "source": [
    "plt.hist(A,bins=100)"
   ]
  },
  {
   "cell_type": "code",
   "execution_count": 37,
   "id": "484a2199",
   "metadata": {},
   "outputs": [
    {
     "data": {
      "text/plain": [
       "(array([1.000e+00, 0.000e+00, 0.000e+00, 0.000e+00, 0.000e+00, 0.000e+00,\n",
       "        0.000e+00, 0.000e+00, 0.000e+00, 0.000e+00, 0.000e+00, 0.000e+00,\n",
       "        0.000e+00, 0.000e+00, 0.000e+00, 1.000e+00, 0.000e+00, 0.000e+00,\n",
       "        2.000e+00, 0.000e+00, 0.000e+00, 0.000e+00, 1.000e+00, 1.000e+00,\n",
       "        0.000e+00, 0.000e+00, 1.000e+00, 0.000e+00, 4.000e+00, 1.000e+00,\n",
       "        3.000e+00, 0.000e+00, 3.000e+00, 4.000e+00, 5.000e+00, 3.000e+00,\n",
       "        7.000e+00, 5.000e+00, 7.000e+00, 1.200e+01, 1.000e+01, 1.300e+01,\n",
       "        1.300e+01, 1.500e+01, 2.200e+01, 2.100e+01, 2.900e+01, 2.600e+01,\n",
       "        4.300e+01, 3.700e+01, 4.800e+01, 5.600e+01, 5.200e+01, 8.000e+01,\n",
       "        6.400e+01, 8.300e+01, 8.600e+01, 1.180e+02, 9.900e+01, 1.110e+02,\n",
       "        1.300e+02, 1.490e+02, 1.780e+02, 1.900e+02, 1.890e+02, 2.080e+02,\n",
       "        2.310e+02, 2.640e+02, 2.980e+02, 3.320e+02, 3.490e+02, 3.650e+02,\n",
       "        4.400e+02, 4.440e+02, 5.010e+02, 5.370e+02, 5.490e+02, 5.710e+02,\n",
       "        6.820e+02, 6.820e+02, 7.470e+02, 7.940e+02, 9.040e+02, 9.090e+02,\n",
       "        9.410e+02, 1.033e+03, 1.009e+03, 1.092e+03, 1.199e+03, 1.216e+03,\n",
       "        1.312e+03, 1.307e+03, 1.330e+03, 1.377e+03, 1.422e+03, 1.560e+03,\n",
       "        1.573e+03, 1.608e+03, 1.622e+03, 1.643e+03, 1.713e+03, 1.660e+03,\n",
       "        1.778e+03, 1.827e+03, 1.847e+03, 1.855e+03, 1.831e+03, 1.819e+03,\n",
       "        1.879e+03, 1.916e+03, 1.907e+03, 1.872e+03, 1.771e+03, 1.829e+03,\n",
       "        1.858e+03, 1.708e+03, 1.792e+03, 1.759e+03, 1.708e+03, 1.665e+03,\n",
       "        1.598e+03, 1.604e+03, 1.473e+03, 1.498e+03, 1.441e+03, 1.401e+03,\n",
       "        1.379e+03, 1.285e+03, 1.326e+03, 1.183e+03, 1.135e+03, 1.098e+03,\n",
       "        9.900e+02, 9.880e+02, 9.610e+02, 8.640e+02, 8.630e+02, 8.250e+02,\n",
       "        7.510e+02, 6.430e+02, 6.670e+02, 5.850e+02, 5.510e+02, 5.190e+02,\n",
       "        4.810e+02, 4.480e+02, 4.360e+02, 3.930e+02, 3.640e+02, 3.040e+02,\n",
       "        2.940e+02, 2.830e+02, 2.410e+02, 2.440e+02, 2.090e+02, 1.810e+02,\n",
       "        1.840e+02, 1.390e+02, 1.490e+02, 1.260e+02, 1.030e+02, 1.030e+02,\n",
       "        1.030e+02, 7.600e+01, 6.500e+01, 6.300e+01, 6.000e+01, 3.700e+01,\n",
       "        5.100e+01, 2.700e+01, 3.700e+01, 2.300e+01, 2.500e+01, 2.500e+01,\n",
       "        1.800e+01, 1.500e+01, 1.300e+01, 1.200e+01, 1.000e+01, 6.000e+00,\n",
       "        1.200e+01, 8.000e+00, 5.000e+00, 5.000e+00, 1.000e+00, 4.000e+00,\n",
       "        3.000e+00, 4.000e+00, 2.000e+00, 6.000e+00, 1.000e+00, 1.000e+00,\n",
       "        0.000e+00, 2.000e+00, 0.000e+00, 0.000e+00, 1.000e+00, 0.000e+00,\n",
       "        0.000e+00, 1.000e+00]),\n",
       " array([-5.0980967 , -5.05153396, -5.00497121, -4.95840847, -4.91184572,\n",
       "        -4.86528298, -4.81872023, -4.77215749, -4.72559474, -4.679032  ,\n",
       "        -4.63246925, -4.58590651, -4.53934376, -4.49278102, -4.44621827,\n",
       "        -4.39965553, -4.35309278, -4.30653004, -4.25996729, -4.21340455,\n",
       "        -4.1668418 , -4.12027905, -4.07371631, -4.02715356, -3.98059082,\n",
       "        -3.93402807, -3.88746533, -3.84090258, -3.79433984, -3.74777709,\n",
       "        -3.70121435, -3.6546516 , -3.60808886, -3.56152611, -3.51496337,\n",
       "        -3.46840062, -3.42183788, -3.37527513, -3.32871239, -3.28214964,\n",
       "        -3.2355869 , -3.18902415, -3.14246141, -3.09589866, -3.04933592,\n",
       "        -3.00277317, -2.95621043, -2.90964768, -2.86308494, -2.81652219,\n",
       "        -2.76995945, -2.7233967 , -2.67683396, -2.63027121, -2.58370847,\n",
       "        -2.53714572, -2.49058298, -2.44402023, -2.39745749, -2.35089474,\n",
       "        -2.304332  , -2.25776925, -2.21120651, -2.16464376, -2.11808102,\n",
       "        -2.07151827, -2.02495553, -1.97839278, -1.93183004, -1.88526729,\n",
       "        -1.83870455, -1.7921418 , -1.74557906, -1.69901631, -1.65245357,\n",
       "        -1.60589082, -1.55932808, -1.51276533, -1.46620259, -1.41963984,\n",
       "        -1.3730771 , -1.32651435, -1.2799516 , -1.23338886, -1.18682611,\n",
       "        -1.14026337, -1.09370062, -1.04713788, -1.00057513, -0.95401239,\n",
       "        -0.90744964, -0.8608869 , -0.81432415, -0.76776141, -0.72119866,\n",
       "        -0.67463592, -0.62807317, -0.58151043, -0.53494768, -0.48838494,\n",
       "        -0.44182219, -0.39525945, -0.3486967 , -0.30213396, -0.25557121,\n",
       "        -0.20900847, -0.16244572, -0.11588298, -0.06932023, -0.02275749,\n",
       "         0.02380526,  0.070368  ,  0.11693075,  0.16349349,  0.21005624,\n",
       "         0.25661898,  0.30318173,  0.34974447,  0.39630722,  0.44286996,\n",
       "         0.48943271,  0.53599545,  0.5825582 ,  0.62912094,  0.67568369,\n",
       "         0.72224643,  0.76880918,  0.81537192,  0.86193467,  0.90849741,\n",
       "         0.95506016,  1.0016229 ,  1.04818565,  1.09474839,  1.14131114,\n",
       "         1.18787388,  1.23443663,  1.28099937,  1.32756212,  1.37412486,\n",
       "         1.42068761,  1.46725036,  1.5138131 ,  1.56037585,  1.60693859,\n",
       "         1.65350134,  1.70006408,  1.74662683,  1.79318957,  1.83975232,\n",
       "         1.88631506,  1.93287781,  1.97944055,  2.0260033 ,  2.07256604,\n",
       "         2.11912879,  2.16569153,  2.21225428,  2.25881702,  2.30537977,\n",
       "         2.35194251,  2.39850526,  2.445068  ,  2.49163075,  2.53819349,\n",
       "         2.58475624,  2.63131898,  2.67788173,  2.72444447,  2.77100722,\n",
       "         2.81756996,  2.86413271,  2.91069545,  2.9572582 ,  3.00382094,\n",
       "         3.05038369,  3.09694643,  3.14350918,  3.19007192,  3.23663467,\n",
       "         3.28319741,  3.32976016,  3.3763229 ,  3.42288565,  3.46944839,\n",
       "         3.51601114,  3.56257388,  3.60913663,  3.65569937,  3.70226212,\n",
       "         3.74882486,  3.79538761,  3.84195035,  3.8885131 ,  3.93507584,\n",
       "         3.98163859,  4.02820133,  4.07476408,  4.12132682,  4.16788957,\n",
       "         4.21445231]),\n",
       " <BarContainer object of 200 artists>)"
      ]
     },
     "execution_count": 37,
     "metadata": {},
     "output_type": "execute_result"
    },
    {
     "data": {
      "image/png": "[encoded data removed]",
      "text/plain": [
       "<Figure size 640x480 with 1 Axes>"
      ]
     },
     "metadata": {},
     "output_type": "display_data"
    }
   ],
   "source": [
    "B =  np.random.randn(100000)\n",
    "plt.hist(B,bins=200)"
   ]
  },
  {
   "cell_type": "code",
   "execution_count": 38,
   "id": "15b5dca4",
   "metadata": {},
   "outputs": [
    {
     "data": {
      "text/plain": [
       "array([[0.95233874, 0.20615106, 0.02624094],\n",
       "       [0.30697173, 0.50470838, 0.31007894]])"
      ]
     },
     "execution_count": 38,
     "metadata": {},
     "output_type": "execute_result"
    }
   ],
   "source": [
    "C = np.random.rand(2,3)\n",
    "C"
   ]
  },
  {
   "cell_type": "code",
   "execution_count": 39,
   "id": "2d724343",
   "metadata": {},
   "outputs": [
    {
     "data": {
      "text/plain": [
       "2"
      ]
     },
     "execution_count": 39,
     "metadata": {},
     "output_type": "execute_result"
    }
   ],
   "source": [
    "C.ndim"
   ]
  },
  {
   "cell_type": "code",
   "execution_count": 40,
   "id": "42aa5244",
   "metadata": {},
   "outputs": [],
   "source": [
    "C = np.random.rand(2,3,4,2)"
   ]
  },
  {
   "cell_type": "code",
   "execution_count": 41,
   "id": "fc75be7c",
   "metadata": {},
   "outputs": [
    {
     "data": {
      "text/plain": [
       "4"
      ]
     },
     "execution_count": 41,
     "metadata": {},
     "output_type": "execute_result"
    }
   ],
   "source": [
    "C.ndim"
   ]
  },
  {
   "cell_type": "code",
   "execution_count": 42,
   "id": "ff03a55e",
   "metadata": {},
   "outputs": [],
   "source": [
    "D = np.arange(100).reshape(4,25)"
   ]
  },
  {
   "cell_type": "code",
   "execution_count": 43,
   "id": "08f69418",
   "metadata": {},
   "outputs": [
    {
     "data": {
      "text/plain": [
       "(4, 25)"
      ]
     },
     "execution_count": 43,
     "metadata": {},
     "output_type": "execute_result"
    }
   ],
   "source": [
    "D.shape"
   ]
  },
  {
   "cell_type": "code",
   "execution_count": 44,
   "id": "f518da55",
   "metadata": {},
   "outputs": [],
   "source": [
    "D = np.arange(100).reshape(4,5,5)"
   ]
  },
  {
   "cell_type": "code",
   "execution_count": 45,
   "id": "a4921a14",
   "metadata": {},
   "outputs": [
    {
     "data": {
      "text/plain": [
       "(4, 5, 5)"
      ]
     },
     "execution_count": 45,
     "metadata": {},
     "output_type": "execute_result"
    }
   ],
   "source": [
    "D.shape"
   ]
  },
  {
   "cell_type": "code",
   "execution_count": 46,
   "id": "bf70c6f2",
   "metadata": {},
   "outputs": [],
   "source": [
    "np.zeros?"
   ]
  },
  {
   "cell_type": "code",
   "execution_count": 47,
   "id": "fe1fd56e",
   "metadata": {},
   "outputs": [],
   "source": [
    "np.ones?"
   ]
  },
  {
   "cell_type": "code",
   "execution_count": 48,
   "id": "84d87600",
   "metadata": {},
   "outputs": [],
   "source": [
    "A = np.arange(100)"
   ]
  },
  {
   "cell_type": "code",
   "execution_count": 49,
   "id": "80b0ab9d",
   "metadata": {},
   "outputs": [],
   "source": [
    "b = A[3:10]"
   ]
  },
  {
   "cell_type": "code",
   "execution_count": 50,
   "id": "c71bb890",
   "metadata": {},
   "outputs": [
    {
     "name": "stdout",
     "output_type": "stream",
     "text": [
      "[3 4 5 6 7 8 9]\n"
     ]
    }
   ],
   "source": [
    "print(b)"
   ]
  },
  {
   "cell_type": "code",
   "execution_count": 51,
   "id": "9e7b07e8",
   "metadata": {},
   "outputs": [],
   "source": [
    "b[0]=-1200"
   ]
  },
  {
   "cell_type": "code",
   "execution_count": 52,
   "id": "3ff7ab72",
   "metadata": {},
   "outputs": [
    {
     "data": {
      "text/plain": [
       "array([-1200,     4,     5,     6,     7,     8,     9])"
      ]
     },
     "execution_count": 52,
     "metadata": {},
     "output_type": "execute_result"
    }
   ],
   "source": [
    "b"
   ]
  },
  {
   "cell_type": "code",
   "execution_count": 53,
   "id": "d3ababa3",
   "metadata": {},
   "outputs": [
    {
     "data": {
      "text/plain": [
       "array([    0,     1,     2, -1200,     4,     5,     6,     7,     8,\n",
       "           9,    10,    11,    12,    13,    14,    15,    16,    17,\n",
       "          18,    19,    20,    21,    22,    23,    24,    25,    26,\n",
       "          27,    28,    29,    30,    31,    32,    33,    34,    35,\n",
       "          36,    37,    38,    39,    40,    41,    42,    43,    44,\n",
       "          45,    46,    47,    48,    49,    50,    51,    52,    53,\n",
       "          54,    55,    56,    57,    58,    59,    60,    61,    62,\n",
       "          63,    64,    65,    66,    67,    68,    69,    70,    71,\n",
       "          72,    73,    74,    75,    76,    77,    78,    79,    80,\n",
       "          81,    82,    83,    84,    85,    86,    87,    88,    89,\n",
       "          90,    91,    92,    93,    94,    95,    96,    97,    98,\n",
       "          99])"
      ]
     },
     "execution_count": 53,
     "metadata": {},
     "output_type": "execute_result"
    }
   ],
   "source": [
    "A"
   ]
  },
  {
   "cell_type": "code",
   "execution_count": 54,
   "id": "f8f10673",
   "metadata": {},
   "outputs": [],
   "source": [
    "b = A[3:10].copy()"
   ]
  },
  {
   "cell_type": "code",
   "execution_count": 55,
   "id": "9cf1529d",
   "metadata": {},
   "outputs": [
    {
     "data": {
      "text/plain": [
       "array([ 0,  5, 10, 15, 20, 25, 30, 35, 40, 45, 50, 55, 60, 65, 70, 75, 80,\n",
       "       85, 90, 95])"
      ]
     },
     "execution_count": 55,
     "metadata": {},
     "output_type": "execute_result"
    }
   ],
   "source": [
    "A [::5]"
   ]
  },
  {
   "cell_type": "code",
   "execution_count": 56,
   "id": "1832a5f5",
   "metadata": {},
   "outputs": [
    {
     "data": {
      "text/plain": [
       "array([99, 94, 89, 84, 79, 74, 69, 64, 59, 54, 49, 44, 39, 34, 29, 24, 19,\n",
       "       14,  9,  4])"
      ]
     },
     "execution_count": 56,
     "metadata": {},
     "output_type": "execute_result"
    }
   ],
   "source": [
    "A[::-5]"
   ]
  },
  {
   "cell_type": "code",
   "execution_count": 57,
   "id": "1c1b642a",
   "metadata": {},
   "outputs": [
    {
     "data": {
      "text/plain": [
       "array([   99,    98,    97,    96,    95,    94,    93,    92,    91,\n",
       "          90,    89,    88,    87,    86,    85,    84,    83,    82,\n",
       "          81,    80,    79,    78,    77,    76,    75,    74,    73,\n",
       "          72,    71,    70,    69,    68,    67,    66,    65,    64,\n",
       "          63,    62,    61,    60,    59,    58,    57,    56,    55,\n",
       "          54,    53,    52,    51,    50,    49,    48,    47,    46,\n",
       "          45,    44,    43,    42,    41,    40,    39,    38,    37,\n",
       "          36,    35,    34,    33,    32,    31,    30,    29,    28,\n",
       "          27,    26,    25,    24,    23,    22,    21,    20,    19,\n",
       "          18,    17,    16,    15,    14,    13,    12,    11,    10,\n",
       "           9,     8,     7,     6,     5,     4, -1200,     2,     1,\n",
       "           0])"
      ]
     },
     "execution_count": 57,
     "metadata": {},
     "output_type": "execute_result"
    }
   ],
   "source": [
    "A[::-1]"
   ]
  },
  {
   "cell_type": "code",
   "execution_count": 58,
   "id": "d35dbe87",
   "metadata": {},
   "outputs": [],
   "source": [
    "B = (A==-1200)*np.arange(A.size)"
   ]
  },
  {
   "cell_type": "code",
   "execution_count": 59,
   "id": "b2aea2e2",
   "metadata": {},
   "outputs": [
    {
     "data": {
      "text/plain": [
       "array([0, 0, 0, 3, 0, 0, 0, 0, 0, 0, 0, 0, 0, 0, 0, 0, 0, 0, 0, 0, 0, 0,\n",
       "       0, 0, 0, 0, 0, 0, 0, 0, 0, 0, 0, 0, 0, 0, 0, 0, 0, 0, 0, 0, 0, 0,\n",
       "       0, 0, 0, 0, 0, 0, 0, 0, 0, 0, 0, 0, 0, 0, 0, 0, 0, 0, 0, 0, 0, 0,\n",
       "       0, 0, 0, 0, 0, 0, 0, 0, 0, 0, 0, 0, 0, 0, 0, 0, 0, 0, 0, 0, 0, 0,\n",
       "       0, 0, 0, 0, 0, 0, 0, 0, 0, 0, 0, 0])"
      ]
     },
     "execution_count": 59,
     "metadata": {},
     "output_type": "execute_result"
    }
   ],
   "source": [
    "B"
   ]
  },
  {
   "cell_type": "code",
   "execution_count": 60,
   "id": "1fe3a502",
   "metadata": {},
   "outputs": [
    {
     "data": {
      "text/plain": [
       "array([    0,     1,     2, -1200,     4,     5,     6,     7,     8,\n",
       "           9,    10,    11,    12,    13,    14,    15,    16,    17,\n",
       "          18,    19,    20,    21,    22,    23,    24,    25,    26,\n",
       "          27,    28,    29,    30,    31,    32,    33,    34,    35,\n",
       "          36,    37,    38,    39,    40,    41,    42,    43,    44,\n",
       "          45,    46,    47,    48,    49,    50,    51,    52,    53,\n",
       "          54,    55,    56,    57,    58,    59,    60,    61,    62,\n",
       "          63,    64,    65,    66,    67,    68,    69,    70,    71,\n",
       "          72,    73,    74,    75,    76,    77,    78,    79,    80,\n",
       "          81,    82,    83,    84,    85,    86,    87,    88,    89,\n",
       "          90,    91,    92,    93,    94,    95,    96,    97,    98,\n",
       "          99])"
      ]
     },
     "execution_count": 60,
     "metadata": {},
     "output_type": "execute_result"
    }
   ],
   "source": [
    "A"
   ]
  },
  {
   "cell_type": "code",
   "execution_count": 61,
   "id": "6ec4bddf",
   "metadata": {},
   "outputs": [],
   "source": [
    "idx = np.argwhere(A==-1200)[0][0]"
   ]
  },
  {
   "cell_type": "code",
   "execution_count": 62,
   "id": "95e52d24",
   "metadata": {},
   "outputs": [
    {
     "data": {
      "text/plain": [
       "3"
      ]
     },
     "execution_count": 62,
     "metadata": {},
     "output_type": "execute_result"
    }
   ],
   "source": [
    "idx"
   ]
  },
  {
   "cell_type": "code",
   "execution_count": 63,
   "id": "c8ec01a5",
   "metadata": {},
   "outputs": [],
   "source": [
    "A[idx] = 3"
   ]
  },
  {
   "cell_type": "code",
   "execution_count": 64,
   "id": "89be40c8",
   "metadata": {},
   "outputs": [
    {
     "data": {
      "text/plain": [
       "array([ 0,  1,  2,  3,  4,  5,  6,  7,  8,  9, 10, 11, 12, 13, 14, 15, 16,\n",
       "       17, 18, 19, 20, 21, 22, 23, 24, 25, 26, 27, 28, 29, 30, 31, 32, 33,\n",
       "       34, 35, 36, 37, 38, 39, 40, 41, 42, 43, 44, 45, 46, 47, 48, 49, 50,\n",
       "       51, 52, 53, 54, 55, 56, 57, 58, 59, 60, 61, 62, 63, 64, 65, 66, 67,\n",
       "       68, 69, 70, 71, 72, 73, 74, 75, 76, 77, 78, 79, 80, 81, 82, 83, 84,\n",
       "       85, 86, 87, 88, 89, 90, 91, 92, 93, 94, 95, 96, 97, 98, 99])"
      ]
     },
     "execution_count": 64,
     "metadata": {},
     "output_type": "execute_result"
    }
   ],
   "source": [
    "A"
   ]
  },
  {
   "cell_type": "code",
   "execution_count": 65,
   "id": "9c45e40c",
   "metadata": {},
   "outputs": [],
   "source": [
    "A = np.round(10*np.random.rand(5,4))"
   ]
  },
  {
   "cell_type": "code",
   "execution_count": 66,
   "id": "693f3592",
   "metadata": {},
   "outputs": [
    {
     "data": {
      "text/plain": [
       "array([[ 6.,  9.,  4., 10.],\n",
       "       [ 1.,  6.,  7.,  3.],\n",
       "       [ 2.,  6.,  5.,  8.],\n",
       "       [ 2.,  9.,  8.,  9.],\n",
       "       [ 7.,  3.,  3.,  5.]])"
      ]
     },
     "execution_count": 66,
     "metadata": {},
     "output_type": "execute_result"
    }
   ],
   "source": [
    "A"
   ]
  },
  {
   "cell_type": "code",
   "execution_count": 67,
   "id": "32dcb657",
   "metadata": {},
   "outputs": [
    {
     "data": {
      "text/plain": [
       "7.0"
      ]
     },
     "execution_count": 67,
     "metadata": {},
     "output_type": "execute_result"
    }
   ],
   "source": [
    "A[1,2]"
   ]
  },
  {
   "cell_type": "code",
   "execution_count": 68,
   "id": "361a9e65",
   "metadata": {},
   "outputs": [
    {
     "data": {
      "text/plain": [
       "array([1., 6., 7., 3.])"
      ]
     },
     "execution_count": 68,
     "metadata": {},
     "output_type": "execute_result"
    }
   ],
   "source": [
    "A[1,:]"
   ]
  },
  {
   "cell_type": "code",
   "execution_count": 69,
   "id": "9e0c41b7",
   "metadata": {},
   "outputs": [
    {
     "data": {
      "text/plain": [
       "array([9., 6., 6., 9., 3.])"
      ]
     },
     "execution_count": 69,
     "metadata": {},
     "output_type": "execute_result"
    }
   ],
   "source": [
    "A[:,1]"
   ]
  },
  {
   "cell_type": "code",
   "execution_count": 70,
   "id": "a3387b3b",
   "metadata": {},
   "outputs": [
    {
     "data": {
      "text/plain": [
       "array([[7., 3.],\n",
       "       [5., 8.]])"
      ]
     },
     "execution_count": 70,
     "metadata": {},
     "output_type": "execute_result"
    }
   ],
   "source": [
    "A[1:3,2:4]"
   ]
  },
  {
   "cell_type": "code",
   "execution_count": 71,
   "id": "fe183875",
   "metadata": {},
   "outputs": [
    {
     "data": {
      "text/plain": [
       "array([[ 6.,  9.,  4., 10.],\n",
       "       [ 1.,  6.,  7.,  3.],\n",
       "       [ 2.,  6.,  5.,  8.],\n",
       "       [ 2.,  9.,  8.,  9.],\n",
       "       [ 7.,  3.,  3.,  5.]])"
      ]
     },
     "execution_count": 71,
     "metadata": {},
     "output_type": "execute_result"
    }
   ],
   "source": [
    "A"
   ]
  },
  {
   "cell_type": "code",
   "execution_count": 72,
   "id": "54039afd",
   "metadata": {},
   "outputs": [
    {
     "data": {
      "text/plain": [
       "array([[ 6.,  1.,  2.,  2.,  7.],\n",
       "       [ 9.,  6.,  6.,  9.,  3.],\n",
       "       [ 4.,  7.,  5.,  8.,  3.],\n",
       "       [10.,  3.,  8.,  9.,  5.]])"
      ]
     },
     "execution_count": 72,
     "metadata": {},
     "output_type": "execute_result"
    }
   ],
   "source": [
    "A.T"
   ]
  },
  {
   "cell_type": "code",
   "execution_count": 73,
   "id": "ee12b4e9",
   "metadata": {},
   "outputs": [],
   "source": [
    "import numpy.linalg as la"
   ]
  },
  {
   "cell_type": "code",
   "execution_count": 74,
   "id": "50a17ff1",
   "metadata": {},
   "outputs": [
    {
     "data": {
      "text/plain": [
       "array([[  2.10613451, -10.3154057 ,  12.36547114],\n",
       "       [ -0.21075461,   7.15477449,  -8.59984969],\n",
       "       [ -0.20306627,  -3.59740064,   5.96955871]])"
      ]
     },
     "execution_count": 74,
     "metadata": {},
     "output_type": "execute_result"
    }
   ],
   "source": [
    "la.inv(np.random.rand(3,3))"
   ]
  },
  {
   "cell_type": "code",
   "execution_count": 75,
   "id": "eaf9ead8",
   "metadata": {},
   "outputs": [
    {
     "data": {
      "text/plain": [
       "array([[ 6.,  9.,  4., 10.],\n",
       "       [ 1.,  6.,  7.,  3.],\n",
       "       [ 2.,  6.,  5.,  8.],\n",
       "       [ 2.,  9.,  8.,  9.],\n",
       "       [ 7.,  3.,  3.,  5.]])"
      ]
     },
     "execution_count": 75,
     "metadata": {},
     "output_type": "execute_result"
    }
   ],
   "source": [
    "A"
   ]
  },
  {
   "cell_type": "code",
   "execution_count": 76,
   "id": "e43ec04e",
   "metadata": {},
   "outputs": [],
   "source": [
    "A.sort(axis=0)"
   ]
  },
  {
   "cell_type": "code",
   "execution_count": 77,
   "id": "9b8dd5a5",
   "metadata": {},
   "outputs": [
    {
     "data": {
      "text/plain": [
       "array([[ 1.,  3.,  3.,  3.],\n",
       "       [ 2.,  6.,  4.,  5.],\n",
       "       [ 2.,  6.,  5.,  8.],\n",
       "       [ 6.,  9.,  7.,  9.],\n",
       "       [ 7.,  9.,  8., 10.]])"
      ]
     },
     "execution_count": 77,
     "metadata": {},
     "output_type": "execute_result"
    }
   ],
   "source": [
    "A"
   ]
  },
  {
   "cell_type": "code",
   "execution_count": 78,
   "id": "74d9003e",
   "metadata": {},
   "outputs": [],
   "source": [
    "A.sort(axis=1)"
   ]
  },
  {
   "cell_type": "code",
   "execution_count": 79,
   "id": "24fb2863",
   "metadata": {},
   "outputs": [
    {
     "data": {
      "text/plain": [
       "array([[ 1.,  3.,  3.,  3.],\n",
       "       [ 2.,  4.,  5.,  6.],\n",
       "       [ 2.,  5.,  6.,  8.],\n",
       "       [ 6.,  7.,  9.,  9.],\n",
       "       [ 7.,  8.,  9., 10.]])"
      ]
     },
     "execution_count": 79,
     "metadata": {},
     "output_type": "execute_result"
    }
   ],
   "source": [
    "A"
   ]
  },
  {
   "cell_type": "code",
   "execution_count": 80,
   "id": "cdd2c010",
   "metadata": {},
   "outputs": [],
   "source": [
    " A = np.arange(100)"
   ]
  },
  {
   "cell_type": "code",
   "execution_count": 81,
   "id": "85b34789",
   "metadata": {},
   "outputs": [],
   "source": [
    "B = A[[3,5,6]]"
   ]
  },
  {
   "cell_type": "code",
   "execution_count": 82,
   "id": "7cf00526",
   "metadata": {},
   "outputs": [
    {
     "data": {
      "text/plain": [
       "array([3, 5, 6])"
      ]
     },
     "execution_count": 82,
     "metadata": {},
     "output_type": "execute_result"
    }
   ],
   "source": [
    "B"
   ]
  },
  {
   "cell_type": "code",
   "execution_count": 83,
   "id": "6f3dfbe5",
   "metadata": {},
   "outputs": [],
   "source": [
    "B[0] = -4"
   ]
  },
  {
   "cell_type": "code",
   "execution_count": 84,
   "id": "f7156109",
   "metadata": {},
   "outputs": [
    {
     "data": {
      "text/plain": [
       "array([-4,  5,  6])"
      ]
     },
     "execution_count": 84,
     "metadata": {},
     "output_type": "execute_result"
    }
   ],
   "source": [
    "B"
   ]
  },
  {
   "cell_type": "code",
   "execution_count": 85,
   "id": "07a14710",
   "metadata": {},
   "outputs": [
    {
     "data": {
      "text/plain": [
       "array([ 0,  1,  2,  3,  4,  5,  6,  7,  8,  9, 10, 11, 12, 13, 14, 15, 16,\n",
       "       17, 18, 19, 20, 21, 22, 23, 24, 25, 26, 27, 28, 29, 30, 31, 32, 33,\n",
       "       34, 35, 36, 37, 38, 39, 40, 41, 42, 43, 44, 45, 46, 47, 48, 49, 50,\n",
       "       51, 52, 53, 54, 55, 56, 57, 58, 59, 60, 61, 62, 63, 64, 65, 66, 67,\n",
       "       68, 69, 70, 71, 72, 73, 74, 75, 76, 77, 78, 79, 80, 81, 82, 83, 84,\n",
       "       85, 86, 87, 88, 89, 90, 91, 92, 93, 94, 95, 96, 97, 98, 99])"
      ]
     },
     "execution_count": 85,
     "metadata": {},
     "output_type": "execute_result"
    }
   ],
   "source": [
    "A"
   ]
  },
  {
   "cell_type": "code",
   "execution_count": 86,
   "id": "d5add340",
   "metadata": {},
   "outputs": [],
   "source": [
    "B = A[A<40]"
   ]
  },
  {
   "cell_type": "code",
   "execution_count": 87,
   "id": "4d8a374c",
   "metadata": {},
   "outputs": [
    {
     "data": {
      "text/plain": [
       "array([ 0,  1,  2,  3,  4,  5,  6,  7,  8,  9, 10, 11, 12, 13, 14, 15, 16,\n",
       "       17, 18, 19, 20, 21, 22, 23, 24, 25, 26, 27, 28, 29, 30, 31, 32, 33,\n",
       "       34, 35, 36, 37, 38, 39])"
      ]
     },
     "execution_count": 87,
     "metadata": {},
     "output_type": "execute_result"
    }
   ],
   "source": [
    "B"
   ]
  },
  {
   "cell_type": "code",
   "execution_count": 88,
   "id": "0e27226e",
   "metadata": {},
   "outputs": [],
   "source": [
    "B = A[(A<40) & (A>30)]"
   ]
  },
  {
   "cell_type": "code",
   "execution_count": 89,
   "id": "3c01522d",
   "metadata": {},
   "outputs": [
    {
     "data": {
      "text/plain": [
       "array([31, 32, 33, 34, 35, 36, 37, 38, 39])"
      ]
     },
     "execution_count": 89,
     "metadata": {},
     "output_type": "execute_result"
    }
   ],
   "source": [
    "B"
   ]
  },
  {
   "cell_type": "code",
   "execution_count": 90,
   "id": "f44d8be4",
   "metadata": {},
   "outputs": [],
   "source": [
    "# &, amd \n",
    "# /, or\n",
    "# ~, not\n",
    "# left side symbols are used for arrays and the right side are used for single objects i.e. True False"
   ]
  },
  {
   "cell_type": "code",
   "execution_count": 92,
   "id": "6e207803",
   "metadata": {},
   "outputs": [],
   "source": [
    "A = np.round(10*np.random.rand(2,3))"
   ]
  },
  {
   "cell_type": "code",
   "execution_count": 93,
   "id": "38168b9b",
   "metadata": {},
   "outputs": [
    {
     "data": {
      "text/plain": [
       "array([[ 1., 10.,  3.],\n",
       "       [ 5.,  8.,  2.]])"
      ]
     },
     "execution_count": 93,
     "metadata": {},
     "output_type": "execute_result"
    }
   ],
   "source": [
    "A"
   ]
  },
  {
   "cell_type": "code",
   "execution_count": 94,
   "id": "7d2ffef8",
   "metadata": {},
   "outputs": [
    {
     "data": {
      "text/plain": [
       "array([[ 4., 13.,  6.],\n",
       "       [ 8., 11.,  5.]])"
      ]
     },
     "execution_count": 94,
     "metadata": {},
     "output_type": "execute_result"
    }
   ],
   "source": [
    "A+3"
   ]
  },
  {
   "cell_type": "code",
   "execution_count": 96,
   "id": "73ee840e",
   "metadata": {},
   "outputs": [
    {
     "data": {
      "text/plain": [
       "array([[ 1., 10.,  3.],\n",
       "       [ 6.,  9.,  3.]])"
      ]
     },
     "execution_count": 96,
     "metadata": {},
     "output_type": "execute_result"
    }
   ],
   "source": [
    "A+(np.arange(2).reshape(2,1))"
   ]
  },
  {
   "cell_type": "code",
   "execution_count": 100,
   "id": "483f0a0c",
   "metadata": {},
   "outputs": [],
   "source": [
    "B = np.round(10*np.random.rand(2,2))"
   ]
  },
  {
   "cell_type": "code",
   "execution_count": 98,
   "id": "4b723d40",
   "metadata": {},
   "outputs": [
    {
     "data": {
      "text/plain": [
       "array([[ 1., 10.,  3.],\n",
       "       [ 5.,  8.,  2.]])"
      ]
     },
     "execution_count": 98,
     "metadata": {},
     "output_type": "execute_result"
    }
   ],
   "source": [
    "A"
   ]
  },
  {
   "cell_type": "code",
   "execution_count": 101,
   "id": "a2b6f250",
   "metadata": {},
   "outputs": [
    {
     "data": {
      "text/plain": [
       "array([[3., 4.],\n",
       "       [9., 5.]])"
      ]
     },
     "execution_count": 101,
     "metadata": {},
     "output_type": "execute_result"
    }
   ],
   "source": [
    "B"
   ]
  },
  {
   "cell_type": "code",
   "execution_count": 102,
   "id": "da0c02a0",
   "metadata": {},
   "outputs": [],
   "source": [
    "C = np.hstack((A,B))"
   ]
  },
  {
   "cell_type": "code",
   "execution_count": 103,
   "id": "18c70115",
   "metadata": {},
   "outputs": [
    {
     "data": {
      "text/plain": [
       "array([[ 1., 10.,  3.,  3.,  4.],\n",
       "       [ 5.,  8.,  2.,  9.,  5.]])"
      ]
     },
     "execution_count": 103,
     "metadata": {},
     "output_type": "execute_result"
    }
   ],
   "source": [
    "C"
   ]
  },
  {
   "cell_type": "code",
   "execution_count": 104,
   "id": "e3831f82",
   "metadata": {},
   "outputs": [],
   "source": [
    "A = np.random.permutation(np.arange(10))"
   ]
  },
  {
   "cell_type": "code",
   "execution_count": 105,
   "id": "4aa54d07",
   "metadata": {},
   "outputs": [
    {
     "data": {
      "text/plain": [
       "array([6, 3, 8, 0, 1, 4, 5, 7, 2, 9])"
      ]
     },
     "execution_count": 105,
     "metadata": {},
     "output_type": "execute_result"
    }
   ],
   "source": [
    "A"
   ]
  },
  {
   "cell_type": "code",
   "execution_count": 106,
   "id": "19696949",
   "metadata": {},
   "outputs": [],
   "source": [
    "A.sort()"
   ]
  },
  {
   "cell_type": "code",
   "execution_count": 107,
   "id": "09ae74ae",
   "metadata": {},
   "outputs": [
    {
     "data": {
      "text/plain": [
       "array([0, 1, 2, 3, 4, 5, 6, 7, 8, 9])"
      ]
     },
     "execution_count": 107,
     "metadata": {},
     "output_type": "execute_result"
    }
   ],
   "source": [
    "A"
   ]
  },
  {
   "cell_type": "code",
   "execution_count": 108,
   "id": "980d9eab",
   "metadata": {},
   "outputs": [
    {
     "data": {
      "text/plain": [
       "array([0, 1, 2, 3, 4, 5, 6, 7, 8, 9])"
      ]
     },
     "execution_count": 108,
     "metadata": {},
     "output_type": "execute_result"
    }
   ],
   "source": [
    "np.sort(A)"
   ]
  },
  {
   "cell_type": "code",
   "execution_count": 109,
   "id": "83ba102a",
   "metadata": {},
   "outputs": [],
   "source": [
    "A.sort()"
   ]
  },
  {
   "cell_type": "code",
   "execution_count": 110,
   "id": "a51e6ddd",
   "metadata": {},
   "outputs": [],
   "source": [
    "A = A[::-1]"
   ]
  },
  {
   "cell_type": "code",
   "execution_count": 111,
   "id": "a3ded657",
   "metadata": {},
   "outputs": [
    {
     "data": {
      "text/plain": [
       "array([9, 8, 7, 6, 5, 4, 3, 2, 1, 0])"
      ]
     },
     "execution_count": 111,
     "metadata": {},
     "output_type": "execute_result"
    }
   ],
   "source": [
    "A"
   ]
  },
  {
   "cell_type": "code",
   "execution_count": 112,
   "id": "3a297e2b",
   "metadata": {},
   "outputs": [],
   "source": [
    "A = np.array([\"abc\",\"how are you\",\"u765\",\"13e\"])"
   ]
  },
  {
   "cell_type": "code",
   "execution_count": 113,
   "id": "60eddc34",
   "metadata": {},
   "outputs": [],
   "source": [
    "A.sort()"
   ]
  },
  {
   "cell_type": "code",
   "execution_count": 114,
   "id": "3e81bdbf",
   "metadata": {},
   "outputs": [
    {
     "data": {
      "text/plain": [
       "array(['13e', 'abc', 'how are you', 'u765'], dtype='<U11')"
      ]
     },
     "execution_count": 114,
     "metadata": {},
     "output_type": "execute_result"
    }
   ],
   "source": [
    "A"
   ]
  },
  {
   "cell_type": "code",
   "execution_count": 116,
   "id": "dad124c7",
   "metadata": {},
   "outputs": [
    {
     "name": "stdout",
     "output_type": "stream",
     "text": [
      "71.7 ms ± 4.94 ms per loop (mean ± std. dev. of 7 runs, 10 loops each)\n",
      "819 µs ± 26.7 µs per loop (mean ± std. dev. of 7 runs, 1,000 loops each)\n"
     ]
    }
   ],
   "source": [
    " B = np.random.rand(1000000)\n",
    "%timeit sum(B)\n",
    "%timeit np.sum(B) # B.sum() will also work the same"
   ]
  },
  {
   "cell_type": "code",
   "execution_count": 117,
   "id": "bef236ac",
   "metadata": {},
   "outputs": [],
   "source": [
    "def mySum(G):\n",
    "    s = 0\n",
    "    for x in G:\n",
    "        s+=x\n",
    "    return s"
   ]
  },
  {
   "cell_type": "code",
   "execution_count": 118,
   "id": "5d89315b",
   "metadata": {},
   "outputs": [
    {
     "name": "stdout",
     "output_type": "stream",
     "text": [
      "71.9 ms ± 2.61 ms per loop (mean ± std. dev. of 7 runs, 10 loops each)\n"
     ]
    }
   ],
   "source": [
    "%timeit mySum(B)"
   ]
  }
 ],
 "metadata": {
  "kernelspec": {
   "display_name": "Python 3 (ipykernel)",
   "language": "python",
   "name": "python3"
  },
  "language_info": {
   "codemirror_mode": {
    "name": "ipython",
    "version": 3
   },
   "file_extension": ".py",
   "mimetype": "text/x-python",
   "name": "python",
   "nbconvert_exporter": "python",
   "pygments_lexer": "ipython3",
   "version": "3.11.3"
  }
 },
 "nbformat": 4,
 "nbformat_minor": 5
}
